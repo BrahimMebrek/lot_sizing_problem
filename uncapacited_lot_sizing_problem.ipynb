{
 "cells": [
  {
   "cell_type": "markdown",
   "id": "9b8c7c7c",
   "metadata": {},
   "source": [
    "# Uncapacitated Lot-Sizing Problem\n",
    "The problem is to decide a production plan for a $n$-period horizon for a single product.\n",
    "\n",
    "The basic model can be viewed as having data:\n",
    "- $d_t$ the demand in period $t$\n",
    "- $f_t$ the fixed production cost in period $t$\n",
    "- $p_t$ the unit production cost in period $t$\n",
    "- $h_t$ the unit storage cost in period $t$\n",
    "\n",
    "The production plan must satisfy the demand with a minimum cost."
   ]
  },
  {
   "cell_type": "code",
   "execution_count": 11,
   "id": "b135a225",
   "metadata": {},
   "outputs": [],
   "source": [
    "import numpy as np\n",
    "import pandas as pd\n",
    "import matplotlib.pyplot as plt"
   ]
  },
  {
   "cell_type": "code",
   "execution_count": 40,
   "id": "a5e8d6e8",
   "metadata": {},
   "outputs": [],
   "source": [
    "def read_data(file_name: str, keys: list) -> pd.DataFrame:\n",
    "    \"\"\"Read data from a .dat file and return a Pandas dataframe\"\"\"\n",
    "    df = pd.read_table(file_name, sep=\" \", header = None).T\n",
    "    df.columns = keys\n",
    "    df.index = range(1, df.shape[0] + 1)\n",
    "    return df"
   ]
  },
  {
   "cell_type": "code",
   "execution_count": 188,
   "id": "f53fbbae",
   "metadata": {},
   "outputs": [],
   "source": [
    "FILE_PATH = \"data/\"\n",
    "FILE_NAME = \"instance_0005.dat\"\n",
    "KEYS = [\"d\", \"f\", \"p\", \"h\"]\n",
    "\n",
    "df = read_data(FILE_PATH + FILE_NAME, KEYS)\n",
    "n = df.shape[0]"
   ]
  },
  {
   "cell_type": "code",
   "execution_count": 189,
   "id": "1f6461c7",
   "metadata": {},
   "outputs": [
    {
     "data": {
      "text/html": [
       "<div>\n",
       "<style scoped>\n",
       "    .dataframe tbody tr th:only-of-type {\n",
       "        vertical-align: middle;\n",
       "    }\n",
       "\n",
       "    .dataframe tbody tr th {\n",
       "        vertical-align: top;\n",
       "    }\n",
       "\n",
       "    .dataframe thead th {\n",
       "        text-align: right;\n",
       "    }\n",
       "</style>\n",
       "<table border=\"1\" class=\"dataframe\">\n",
       "  <thead>\n",
       "    <tr style=\"text-align: right;\">\n",
       "      <th></th>\n",
       "      <th>d</th>\n",
       "      <th>f</th>\n",
       "      <th>p</th>\n",
       "      <th>h</th>\n",
       "    </tr>\n",
       "  </thead>\n",
       "  <tbody>\n",
       "    <tr>\n",
       "      <th>1</th>\n",
       "      <td>7</td>\n",
       "      <td>10</td>\n",
       "      <td>3</td>\n",
       "      <td>1</td>\n",
       "    </tr>\n",
       "    <tr>\n",
       "      <th>2</th>\n",
       "      <td>2</td>\n",
       "      <td>11</td>\n",
       "      <td>2</td>\n",
       "      <td>2</td>\n",
       "    </tr>\n",
       "    <tr>\n",
       "      <th>3</th>\n",
       "      <td>3</td>\n",
       "      <td>13</td>\n",
       "      <td>7</td>\n",
       "      <td>2</td>\n",
       "    </tr>\n",
       "    <tr>\n",
       "      <th>4</th>\n",
       "      <td>4</td>\n",
       "      <td>15</td>\n",
       "      <td>2</td>\n",
       "      <td>1</td>\n",
       "    </tr>\n",
       "    <tr>\n",
       "      <th>5</th>\n",
       "      <td>2</td>\n",
       "      <td>9</td>\n",
       "      <td>3</td>\n",
       "      <td>2</td>\n",
       "    </tr>\n",
       "  </tbody>\n",
       "</table>\n",
       "</div>"
      ],
      "text/plain": [
       "   d   f  p  h\n",
       "1  7  10  3  1\n",
       "2  2  11  2  2\n",
       "3  3  13  7  2\n",
       "4  4  15  2  1\n",
       "5  2   9  3  2"
      ]
     },
     "execution_count": 189,
     "metadata": {},
     "output_type": "execute_result"
    }
   ],
   "source": [
    "df"
   ]
  },
  {
   "cell_type": "code",
   "execution_count": 25,
   "id": "0020ccf2",
   "metadata": {},
   "outputs": [],
   "source": [
    "def plot_columns(df: pd.DataFrame) -> None:\n",
    "    \"\"\"Plot each column in a Pandas Dataframe\"\"\"\n",
    "    fig, ax = plt.subplots(figsize=(8, 6))\n",
    "    colors = plt.cm.tab10(np.linspace(0, 1, len(df.columns)))\n",
    "    \n",
    "    for i, column in enumerate(df.columns):\n",
    "        ax.plot(df.index, df[column], label=column, color=colors[i], linewidth=1, marker='o', markersize=8)\n",
    "\n",
    "    ax.set_xlabel('Index')\n",
    "    ax.set_ylabel('Value')\n",
    "        \n",
    "    ax.legend()\n",
    "    plt.show()"
   ]
  },
  {
   "cell_type": "code",
   "execution_count": 26,
   "id": "6b35d224",
   "metadata": {},
   "outputs": [
    {
     "data": {
      "image/png": "[encoded data removed]",
      "text/plain": [
       "<Figure size 576x432 with 1 Axes>"
      ]
     },
     "metadata": {
      "needs_background": "light"
     },
     "output_type": "display_data"
    }
   ],
   "source": [
    "plot_columns(df)"
   ]
  },
  {
   "cell_type": "code",
   "execution_count": 27,
   "id": "4c5f3525",
   "metadata": {},
   "outputs": [],
   "source": [
    "import pyomo.environ as pyo\n",
    "from pyomo.opt import SolverFactory, SolverResults\n",
    "import os\n",
    "\n",
    "def create_instance(model: pyo.AbstractModel, data: dict) -> pyo.ConcreteModel:\n",
    "    \"\"\"Creates a Pyomo instance for a given Pyomo abstract model and a data dictionary\"\"\"\n",
    "    return model.create_instance(data = {None:data})\n",
    "\n",
    "def solve_instance_locally(instance: pyo.ConcreteModel, solver_name: str = \"cplex\") -> SolverResults:\n",
    "    \"\"\"Solves a Pyomo instance locally\"\"\"\n",
    "    solver = pyo.SolverFactory(solver_name)\n",
    "    result = solver.solve(instance)\n",
    "    return result\n",
    "\n",
    "def solve_instance_externally(instance: pyo.ConcreteModel, email: str, solver_name: str = \"cplex\", load: bool = True) -> SolverResults:\n",
    "    \"\"\"Solves a Pyomo instance on the NEOS servers\"\"\"\n",
    "    os.environ[\"NEOS_EMAIL\"] = email\n",
    "    solver_manager = pyo.SolverManagerFactory('neos')\n",
    "    result = solver_manager.solve(instance, opt=solver_name, load_solutions=load)\n",
    "    return result"
   ]
  },
  {
   "cell_type": "markdown",
   "id": "70f9f1e9",
   "metadata": {},
   "source": [
    "## Integer Linear Programming Formulation 1\n",
    "\n",
    "The variables :\n",
    "- $x_t$ the number of items produced in period $t$, $\\forall t \\in \\{1,\\dots,n\\}$\n",
    "- $y_t = 1$ if production occurs in period $t$, otherwise $y_t = 0$, $\\forall t \\in \\{1,\\dots,n\\}$\n",
    "- $s_t$ the number of items stored at the end of period $t$, $\\forall t \\in \\{0,\\dots,n\\}$\n",
    "\n",
    "The model :\n",
    "\n",
    "$\\begin{cases}\n",
    "    \\text{Minimize} \\sum_{t=1}^{n} f_t y_t + \\sum_{t=1}^{n} p_t x_t + \\sum_{t=1}^{n} h_t s_t \\\\\n",
    "    s_{t-1} + x_t = d_t + s_t & \\forall t \\in \\{1,\\dots,n\\}\\\\\n",
    "    x_t \\le M_t y_t & \\forall t \\in \\{1,\\dots,n\\}\\\\\n",
    "    y_t \\in \\{0, 1\\} & \\forall t \\in \\{1,\\dots,n\\}\\\\\n",
    "    x_t, s_t \\ge 0 & \\forall t \\in \\{1,\\dots,n\\}\\\\\n",
    "    s_0 = 0\n",
    "\\end{cases}$\n",
    "\n",
    "With :\n",
    "- $M_t = \\sum_{k=t}^n d_k$ an upperbound of $M_t$"
   ]
  },
  {
   "cell_type": "code",
   "execution_count": 193,
   "id": "017e4f22",
   "metadata": {},
   "outputs": [],
   "source": [
    "n = df.shape[0]\n",
    "data_uls_1 = df.to_dict()\n",
    "data_uls_1['n'] = {None:n}\n",
    "data_uls_1['M'] = {t:sum(list(data['d'].values())[t-1:]) for (t, value) in data['d'].items()}\n",
    "data_uls_1['s0'] = {None:0}"
   ]
  },
  {
   "cell_type": "code",
   "execution_count": 194,
   "id": "372ea08a",
   "metadata": {},
   "outputs": [
    {
     "data": {
      "text/plain": [
       "{'d': {1: 7, 2: 2, 3: 3, 4: 4, 5: 2},\n",
       " 'f': {1: 10, 2: 11, 3: 13, 4: 15, 5: 9},\n",
       " 'p': {1: 3, 2: 2, 3: 7, 4: 2, 5: 3},\n",
       " 'h': {1: 1, 2: 2, 3: 2, 4: 1, 5: 2},\n",
       " 'n': {None: 5},\n",
       " 'M': {1: 18, 2: 11, 3: 9, 4: 6, 5: 2},\n",
       " 's0': {None: 0}}"
      ]
     },
     "execution_count": 194,
     "metadata": {},
     "output_type": "execute_result"
    }
   ],
   "source": [
    "data_uls_1"
   ]
  },
  {
   "cell_type": "code",
   "execution_count": 196,
   "id": "b29db290",
   "metadata": {},
   "outputs": [],
   "source": [
    "def create_uls_1() -> pyo.AbstractModel:\n",
    "    model = pyo.AbstractModel()\n",
    "\n",
    "    # immutable parameters\n",
    "    model.n = pyo.Param(domain = pyo.NonNegativeIntegers)\n",
    "\n",
    "    # sets\n",
    "    model.T = pyo.Set(dimen = 1, initialize = T_set_expression)\n",
    "    model.S = pyo.Set(dimen = 1, initialize = S_set_expression)\n",
    "\n",
    "    # mutable parameters\n",
    "    model.s0 = pyo.Param(domain = pyo.NonNegativeIntegers, mutable = True)\n",
    "\n",
    "    model.d = pyo.Param(model.T, domain = pyo.NonNegativeIntegers, mutable = True)\n",
    "    model.f = pyo.Param(model.T, domain = pyo.NonNegativeIntegers, mutable = True)\n",
    "    model.p = pyo.Param(model.T, domain = pyo.NonNegativeIntegers, mutable = True)\n",
    "    model.h = pyo.Param(model.T, domain = pyo.NonNegativeIntegers, mutable = True)\n",
    "\n",
    "    model.M = pyo.Param(model.T, mutable = True)\n",
    "    \n",
    "    # variables\n",
    "    model.x = pyo.Var(model.T, domain = pyo.NonNegativeIntegers)\n",
    "    model.s = pyo.Var(model.S, domain = pyo.NonNegativeIntegers)\n",
    "    model.y = pyo.Var(model.T, domain = pyo.Binary)\n",
    "    \n",
    "    # objective function\n",
    "    model.objective = pyo.Objective(expr = objective_expression, sense = pyo.minimize)\n",
    "\n",
    "    # constraints\n",
    "    model.conservation_constraint  = pyo.Constraint(model.T, expr = conservation_constraint_expression)\n",
    "    model.big_m_constraint         = pyo.Constraint(model.T, expr = big_m_constraint_expression)\n",
    "    model.initial_stock_constraint = pyo.Constraint(expr = initial_stock_constraint_expression)\n",
    "    \n",
    "    return model\n",
    "\n",
    "def T_set_expression(model: pyo.AbstractModel) -> pyo.Expression:\n",
    "    return (t for t in range(1, model.n + 1))\n",
    "\n",
    "def S_set_expression(model: pyo.AbstractModel) -> pyo.Expression:\n",
    "    return (t for t in range(0, model.n + 1))\n",
    "\n",
    "def objective_expression(model: pyo.AbstractModel) -> pyo.Expression:\n",
    "    return sum(model.f[t] * model.y[t] + \\\n",
    "               model.p[t] * model.x[t] + \\\n",
    "               model.h[t] * model.s[t] for t in model.T)\n",
    "\n",
    "def conservation_constraint_expression(model: pyo.AbstractModel, t: int) -> pyo.Expression:\n",
    "    return model.s[t-1] + model.x[t] == model.d[t] + model.s[t]\n",
    "\n",
    "def big_m_constraint_expression(model: pyo.AbstractModel, t: int) -> pyo.Expression:\n",
    "    return model.x[t] <= model.M[t] * model.y[t]\n",
    "\n",
    "def initial_stock_constraint_expression(model: pyo.AbstractModel) -> pyo.Expression:\n",
    "    return model.s[0] == model.s0"
   ]
  },
  {
   "cell_type": "code",
   "execution_count": 197,
   "id": "091b1716",
   "metadata": {},
   "outputs": [
    {
     "name": "stdout",
     "output_type": "stream",
     "text": [
      "# ==========================================================\n",
      "# = Solver Results                                         =\n",
      "# ==========================================================\n",
      "# ----------------------------------------------------------\n",
      "#   Problem Information\n",
      "# ----------------------------------------------------------\n",
      "Problem: \n",
      "- Name: tmp2w6ou4sg\n",
      "  Lower bound: 86.0\n",
      "  Upper bound: 86.0\n",
      "  Number of objectives: 1\n",
      "  Number of constraints: 12\n",
      "  Number of variables: 17\n",
      "  Number of nonzeros: 27\n",
      "  Sense: minimize\n",
      "# ----------------------------------------------------------\n",
      "#   Solver Information\n",
      "# ----------------------------------------------------------\n",
      "Solver: \n",
      "- Status: ok\n",
      "  User time: 0.03\n",
      "  Termination condition: optimal\n",
      "  Termination message: MIP - Integer optimal solution\\x3a Objective = 8.6000000000e+01\n",
      "  Statistics: \n",
      "    Branch and bound: \n",
      "      Number of bounded subproblems: 0\n",
      "      Number of created subproblems: 0\n",
      "  Error rc: 0\n",
      "  Time: 0.05475926399230957\n",
      "# ----------------------------------------------------------\n",
      "#   Solution Information\n",
      "# ----------------------------------------------------------\n",
      "Solution: \n",
      "- number of solutions: 0\n",
      "  number of solutions displayed: 0\n"
     ]
    }
   ],
   "source": [
    "uls_1 = create_uls_1()\n",
    "uls_1_instance = create_instance(uls_1, data_uls_1)\n",
    "result = solve_instance_locally(uls_1_instance, \"cplex\")\n",
    "result.write()"
   ]
  },
  {
   "cell_type": "code",
   "execution_count": 198,
   "id": "93668bc2",
   "metadata": {},
   "outputs": [],
   "source": [
    "df_uls_1 = df.copy()\n",
    "df_uls_1['x'] = [int(uls_1_instance.x[t].value) for t in range(1, n+1)]\n",
    "df_uls_1['s'] = [int(uls_1_instance.s[t].value) for t in range(1, n+1)]\n",
    "df_uls_1['y'] = [int(uls_1_instance.y[t].value) for t in range(1, n+1)]"
   ]
  },
  {
   "cell_type": "code",
   "execution_count": 199,
   "id": "c1e295da",
   "metadata": {},
   "outputs": [
    {
     "data": {
      "image/png": "[encoded data removed]",
      "text/plain": [
       "<Figure size 576x432 with 1 Axes>"
      ]
     },
     "metadata": {
      "needs_background": "light"
     },
     "output_type": "display_data"
    }
   ],
   "source": [
    "plot_columns(df_uls_1)"
   ]
  },
  {
   "cell_type": "markdown",
   "id": "63ce654b",
   "metadata": {},
   "source": [
    "### Formulation 2\n",
    "\n",
    "The variables :\n",
    "- $z_{i,t}$ the number of items produced in period $i$ to satisfy the demand in period $t$, $\\forall t \\in \\{1,\\dots,n\\}, \\forall i \\le t$\n",
    "- $y_t = 1$ if production occurs in period $t$, otherwise $y_t = 0$, $\\forall t \\in \\{1,\\dots,n\\}$\n",
    "\n",
    "\n",
    "The model :\n",
    "\n",
    "$\\begin{cases}\n",
    "    \\text{Minimize} \\sum_{t=1}^{n} f_t y_t + \\sum_{i=1}^{n}\\sum_{t=i}^{n} p_i z_{i,t} + \\sum_{t=1}^{n}\\sum_{i=1}^{t}\\sum_{k=t+1}^{n} h_t z_{i,k}\\\\\n",
    "    \\sum_{i=1}^t z_{i,t} = d_t & \\forall t \\in \\{1,\\dots,n\\}\\\\\n",
    "    z_{i,t} \\le d_t y_i & \\forall t \\in \\{1,\\dots,n\\} & \\forall i \\in \\{1,\\dots,t\\}\\\\\n",
    "    y_t \\in \\{0, 1\\} & \\forall t \\in \\{1,\\dots,n\\}\\\\\n",
    "    z_{i,t} \\ge 0 & \\forall t \\in \\{1,\\dots,n\\} & \\forall i \\in \\{1,\\dots,t\\}\n",
    "\\end{cases}$\n",
    "\n",
    "With : \n",
    "- $d_t = \\sum_{i=1}^n z_{i,t}$\n",
    "- $x_i = \\sum_{t=i}^n z_{i,t}$\n",
    "- $s_t = \\sum_{i=1}^t\\sum_{k=t+1}^n z_{i,t}$\n"
   ]
  },
  {
   "cell_type": "code",
   "execution_count": 200,
   "id": "24f623bb",
   "metadata": {},
   "outputs": [],
   "source": [
    "data_uls_2 = df.to_dict()\n",
    "data_uls_2['n'] = {None:n}"
   ]
  },
  {
   "cell_type": "code",
   "execution_count": 201,
   "id": "55b451e9",
   "metadata": {},
   "outputs": [
    {
     "data": {
      "text/plain": [
       "{'d': {1: 7, 2: 2, 3: 3, 4: 4, 5: 2},\n",
       " 'f': {1: 10, 2: 11, 3: 13, 4: 15, 5: 9},\n",
       " 'p': {1: 3, 2: 2, 3: 7, 4: 2, 5: 3},\n",
       " 'h': {1: 1, 2: 2, 3: 2, 4: 1, 5: 2},\n",
       " 'n': {None: 5}}"
      ]
     },
     "execution_count": 201,
     "metadata": {},
     "output_type": "execute_result"
    }
   ],
   "source": [
    "data_uls_2"
   ]
  },
  {
   "cell_type": "code",
   "execution_count": 202,
   "id": "17c61ee0",
   "metadata": {},
   "outputs": [],
   "source": [
    "def create_uls_2() -> pyo.AbstractModel:\n",
    "    model = pyo.AbstractModel()\n",
    "\n",
    "    # immutable parameters\n",
    "    model.n = pyo.Param(domain = pyo.NonNegativeIntegers)\n",
    "\n",
    "    # sets\n",
    "    model.T = pyo.Set(dimen = 1, initialize = T_set_expression)\n",
    "    model.IT = pyo.Set(dimen = 2, initialize = IT_set_expression)\n",
    "    model.KIT = pyo.Set(dimen = 3, initialize = KIT_set_expression)\n",
    "    \n",
    "    # mutable parameters\n",
    "    model.d = pyo.Param(model.T, domain = pyo.NonNegativeIntegers, mutable = True)\n",
    "    model.f = pyo.Param(model.T, domain = pyo.NonNegativeIntegers, mutable = True)\n",
    "    model.p = pyo.Param(model.T, domain = pyo.NonNegativeIntegers, mutable = True)\n",
    "    model.h = pyo.Param(model.T, domain = pyo.NonNegativeIntegers, mutable = True)\n",
    "    \n",
    "    # variables\n",
    "    model.z = pyo.Var(model.IT, domain = pyo.NonNegativeIntegers)\n",
    "    model.y = pyo.Var(model.T, domain = pyo.Binary)\n",
    "\n",
    "    # objective function\n",
    "    model.objective = pyo.Objective(expr = objective_expression, sense = pyo.minimize)\n",
    "\n",
    "    # constraints\n",
    "    model.demand_satisfaction_constraint = pyo.Constraint(model.T, expr = demand_satisfaction_constraint_expression)\n",
    "    model.y_constraint = pyo.Constraint(model.IT, expr = y_constraint_expression)\n",
    "    \n",
    "    return model\n",
    "\n",
    "def T_set_expression(model: pyo.AbstractModel) -> pyo.Expression:\n",
    "    return (t for t in range(1, model.n + 1))\n",
    "\n",
    "def IT_set_expression(model: pyo.AbstractModel) -> pyo.Expression:\n",
    "    return ((i, t) for t in model.T for i in range(1, t + 1))\n",
    "\n",
    "def KIT_set_expression(model: pyo.AbstractModel) -> pyo.Expression:\n",
    "    return ((k, i, t) for (i, t) in model.IT for k in range(t + 1, model.n + 1))\n",
    "\n",
    "def objective_expression(model: pyo.AbstractModel) -> pyo.Expression:\n",
    "    return sum(model.f[t] * model.y[t] for t in model.T) + \\\n",
    "           sum(model.p[i] * model.z[i, t] for i, t in model.IT) + \\\n",
    "           sum(model.h[t] * model.z[i, k] for (k, i ,t) in model.KIT)\n",
    "\n",
    "def demand_satisfaction_constraint_expression(model, t):\n",
    "    return sum(model.z[i, t] for i in range(1, t+1)) == model.d[t]\n",
    "\n",
    "def y_constraint_expression(model, i, t):\n",
    "    return model.z[i,t] <= model.d[t] * model.y[i]"
   ]
  },
  {
   "cell_type": "code",
   "execution_count": 203,
   "id": "804fd704",
   "metadata": {},
   "outputs": [
    {
     "name": "stdout",
     "output_type": "stream",
     "text": [
      "# ==========================================================\n",
      "# = Solver Results                                         =\n",
      "# ==========================================================\n",
      "# ----------------------------------------------------------\n",
      "#   Problem Information\n",
      "# ----------------------------------------------------------\n",
      "Problem: \n",
      "- Name: tmp8acnx7g8\n",
      "  Lower bound: 86.0\n",
      "  Upper bound: 86.0\n",
      "  Number of objectives: 1\n",
      "  Number of constraints: 21\n",
      "  Number of variables: 21\n",
      "  Number of nonzeros: 46\n",
      "  Sense: minimize\n",
      "# ----------------------------------------------------------\n",
      "#   Solver Information\n",
      "# ----------------------------------------------------------\n",
      "Solver: \n",
      "- Status: ok\n",
      "  User time: 0.03\n",
      "  Termination condition: optimal\n",
      "  Termination message: MIP - Integer optimal solution\\x3a Objective = 8.6000000000e+01\n",
      "  Statistics: \n",
      "    Branch and bound: \n",
      "      Number of bounded subproblems: 0\n",
      "      Number of created subproblems: 0\n",
      "  Error rc: 0\n",
      "  Time: 0.055881500244140625\n",
      "# ----------------------------------------------------------\n",
      "#   Solution Information\n",
      "# ----------------------------------------------------------\n",
      "Solution: \n",
      "- number of solutions: 0\n",
      "  number of solutions displayed: 0\n"
     ]
    }
   ],
   "source": [
    "uls_2 = create_uls_2()\n",
    "uls_2_instance = create_instance(uls_2, data_uls_2)\n",
    "result = solve_instance_locally(uls_2_instance, \"cplex\")\n",
    "\n",
    "result.write()"
   ]
  },
  {
   "cell_type": "markdown",
   "id": "4cfe55a0",
   "metadata": {},
   "source": [
    "## Dynamic Programming\n",
    "\n",
    "The ULS objective function can be written as :\n",
    "\n",
    "$\\sum_{t=1}^n f_t y_t + \\sum_{t=1}^n P_t x_t + H_0 s_0 + K_1$\n",
    "\n",
    "With :\n",
    "- $P_t = p_t + \\sum_{q=t}^n h_q$\n",
    "- $H_0 = \\sum_{t=1}^n h_t$\n",
    "- $K_1 = - \\sum_{t=1}^n h_t\\sum_{q=1}^t d_q$\n",
    "\n",
    "With this new objective function, we can consider that there is no storage costs (they are hidden), as $s_t$ variables do no longer appear.\n",
    "\n",
    "There exists an optimal solution to ULS where time slots are partitioned in two classes :\n",
    "- Regeneration slots: production occurs at these slots and the amount produced covers the demand for the current regeneration slot up to the slot preceding the next regeneration slot.\n",
    "- Non-regeneration slots: no production occurs at these slots, the stock is used to cover the demand.\n",
    "\n",
    "Let $G_t$ be ULS optimal objective value when the problem is solved on the time horizon $\\{1,\\dots,t\\}$. The ULS optimal objective value is $G_n$.\n",
    "\n",
    "If $k\\le t$ is the last regeneration time slot, the $G_t$ is equal to :\n",
    "\n",
    "$G_t = G_{k-1} + f_k + P_k \\sum_{q=k}^t d_q$\n",
    "\n",
    "We can compute $G_t$ for all $t \\in \\{1,\\dots,n\\}$ by searching, for each $t$, the last regeneration time slot that incurs the minimum cost, with the following induction formula:\n",
    "\n",
    "$\\begin{cases}\n",
    "    G_0 = H_0 s_0 + K_1\\\\\n",
    "    G_t = \\underset{k\\in\\{1,\\dots, t\\}}{min}(G_{k-1} + f_k + P_k \\sum_{q=k}^t d_q)\n",
    "\\end{cases}$\n",
    "\n",
    "Finally, $\\kappa_t$ stores the last regeneration time slot index useful for building back the solution.\n",
    "\n",
    "$\\kappa_t = \\arg G_t$\n"
   ]
  },
  {
   "cell_type": "code",
   "execution_count": 214,
   "id": "b187fb63",
   "metadata": {},
   "outputs": [],
   "source": [
    "data_dp = df.to_dict()"
   ]
  },
  {
   "cell_type": "code",
   "execution_count": 215,
   "id": "6c1dc643",
   "metadata": {},
   "outputs": [],
   "source": [
    "#data_dp['n'] = n\n",
    "data_dp['P'] = {t:data['p'][t] + sum(data['h'][q] for q in range(t, n+1)) for t in range(1, n+1)}\n",
    "data_dp['H0'] = sum(data['h'][t] for t in range(1, n+1))\n",
    "data_dp['K1'] = - sum(data['h'][t] * data['d'][q] for t in range(1, n+1) for q in range(1, t+1))"
   ]
  },
  {
   "cell_type": "code",
   "execution_count": 216,
   "id": "c5600c3c",
   "metadata": {},
   "outputs": [
    {
     "data": {
      "text/plain": [
       "{'d': {1: 7, 2: 2, 3: 3, 4: 4, 5: 2},\n",
       " 'f': {1: 10, 2: 11, 3: 13, 4: 15, 5: 9},\n",
       " 'p': {1: 3, 2: 2, 3: 7, 4: 2, 5: 3},\n",
       " 'h': {1: 1, 2: 2, 3: 2, 4: 1, 5: 2},\n",
       " 'P': {1: 11, 2: 9, 3: 12, 4: 5, 5: 5},\n",
       " 'H0': 8,\n",
       " 'K1': -101}"
      ]
     },
     "execution_count": 216,
     "metadata": {},
     "output_type": "execute_result"
    }
   ],
   "source": [
    "data_dp"
   ]
  },
  {
   "cell_type": "code",
   "execution_count": null,
   "id": "85582072",
   "metadata": {},
   "outputs": [],
   "source": [
    "# Recursive function that takes n, data, P, G, kappa and returns the objective value for n\n",
    "def compute_G(n: int, data: dict, P: dict, G: dict, kappa: dict) -> int:\n",
    "\n",
    "    # Stopping criteria\n",
    "    if(n == 0):\n",
    "        return G[0]\n",
    "    \n",
    "    l = []\n",
    "    \n",
    "    for k in range(1, n + 1):\n",
    "        \n",
    "        # memorization : if a value G[k-1] has already been computed, there's no need to compute it again\n",
    "        if not ((k - 1) in G):\n",
    "            G[k - 1] = compute_G(k - 1, data, G, kappa)\n",
    "        \n",
    "        l.append(G[k - 1] + data['f'][k] + data['P'][k] * sum(datad[q] for q in range(k, n+1)))\n",
    "    \n",
    "    min_l = min(l)\n",
    "\n",
    "    arg_min_l = l.index(min_l)\n",
    "    \n",
    "    kappa[n] = arg_min_l + 1\n",
    "    \n",
    "    return min_l\n"
   ]
  },
  {
   "cell_type": "code",
   "execution_count": null,
   "id": "c6449bca",
   "metadata": {},
   "outputs": [],
   "source": [
    "\n",
    "s = {}\n",
    "s[0] = 0\n",
    "\n",
    "G = {0:H0*s[0]+K1}\n",
    "kappa = {0:0}\n",
    "\n",
    "G[n] = compute_G(n, d, f, p, h, P, G, kappa)\n",
    "\n",
    "\n",
    "# Calculate x, y and s\n",
    "y = {i:int(kappa[i] != kappa[i-1]) for i in range(1, n+1)}\n",
    "\n",
    "x = {}\n",
    "for t in range(1, n+1):\n",
    "    x[t] = d[t] * y[t]\n",
    "    for q in range(t+1, n+1):\n",
    "        if(y[q] == 0):\n",
    "            x[t] += d[q]\n",
    "        else:\n",
    "            break\n",
    "\n",
    "s = {0:0}\n",
    "for t in range(1, n+1):\n",
    "    s[t] = x[t] - d[t] + s[t-1]\n",
    "\n",
    "print(\"--- %s seconds ---\" % (time.time() - start_time))\n",
    "\n",
    "print(\"Objective value :\", G[n])\n",
    "\n",
    "\n",
    "# # uncomment to print G and Kappa\n",
    "# print(\"\\nG values:\")\n",
    "# for t in G:\n",
    "#     print(f\"G{t} = \", G[t])\n",
    "\n",
    "# print(\"\\nkappa values:\")\n",
    "# for t in kappa:\n",
    "#     print(f\"kappa{t} = \", kappa[t])\n",
    "\n",
    "# # uncomment print x, y and s\n",
    "# print(\"\\nx values:\")\n",
    "# for t in x:\n",
    "#     print(f\"x{t} = \", x[t])\n",
    "\n",
    "# print(\"\\ns values:\")\n",
    "# for t in s:\n",
    "#     print(f\"s{t} = \", s[t])\n",
    "\n",
    "# print(\"\\ny values:\")\n",
    "# for t in y:    \n",
    "#     print(f\"y{t} = \", y[t])\n"
   ]
  },
  {
   "cell_type": "code",
   "execution_count": null,
   "id": "249dfaea",
   "metadata": {},
   "outputs": [],
   "source": []
  },
  {
   "cell_type": "code",
   "execution_count": null,
   "id": "0527dc3c",
   "metadata": {},
   "outputs": [],
   "source": []
  },
  {
   "cell_type": "code",
   "execution_count": null,
   "id": "88c39603",
   "metadata": {},
   "outputs": [],
   "source": [
    "\n",
    "def transform_df_into_dict(df: pd.DataFrame) -> dict:\n",
    "    \"\"\"Transform a Pandas dataframe into a dictionary that can be fed into a Pyomo Model\"\"\"\n",
    "    n = df.shape[0]\n",
    "    data = df.to_dict()\n",
    "    data['n'] = {None:n}\n",
    "    return data"
   ]
  },
  {
   "cell_type": "code",
   "execution_count": null,
   "id": "a199cc74",
   "metadata": {},
   "outputs": [],
   "source": []
  },
  {
   "cell_type": "code",
   "execution_count": 144,
   "id": "81527260",
   "metadata": {},
   "outputs": [
    {
     "name": "stdout",
     "output_type": "stream",
     "text": [
      "\n",
      "Problem: \n",
      "- Name: tmpbxj_01yd\n",
      "  Lower bound: 2527.0\n",
      "  Upper bound: 2527.0\n",
      "  Number of objectives: 1\n",
      "  Number of constraints: 202\n",
      "  Number of variables: 302\n",
      "  Number of nonzeros: 502\n",
      "  Sense: minimize\n",
      "Solver: \n",
      "- Status: ok\n",
      "  User time: 0.06\n",
      "  Termination condition: optimal\n",
      "  Termination message: MIP - Integer optimal solution\\x3a Objective = 2.5270000000e+03\n",
      "  Statistics: \n",
      "    Branch and bound: \n",
      "      Number of bounded subproblems: 0\n",
      "      Number of created subproblems: 0\n",
      "  Error rc: 0\n",
      "  Time: 0.16553759574890137\n",
      "Solution: \n",
      "- number of solutions: 0\n",
      "  number of solutions displayed: 0\n",
      "\n"
     ]
    }
   ],
   "source": [
    "def main():\n",
    "    uls_1 = create_uls_1_abstract_model()\n",
    "    uls_1_instance = create_instance(uls_1, data)\n",
    "    result = solve_instance_locally(uls_1_instance, \"cplex\")\n",
    "    # email = \"brahim.mebrek.pro@gmail.com\"\n",
    "    # result = solve_instance_externally(uls_1_instance, email = email, solver_name = 'cplex')\n",
    "    print(result)\n",
    "\n",
    "if __name__ == \"__main__\":\n",
    "    main()"
   ]
  },
  {
   "cell_type": "code",
   "execution_count": 229,
   "id": "00070bd7",
   "metadata": {},
   "outputs": [],
   "source": [
    "for t, v in data['f'].items():\n",
    "    data['f'][t] += 30"
   ]
  },
  {
   "cell_type": "code",
   "execution_count": 231,
   "id": "67e5df11",
   "metadata": {},
   "outputs": [],
   "source": [
    "uls_1_2 = create_uls_1_abstract_model()\n",
    "uls_1_2_instance = create_instance(uls_1_2, data)\n",
    "result = solve_instance_locally(uls_1_2_instance, \"cplex\")"
   ]
  },
  {
   "cell_type": "code",
   "execution_count": 233,
   "id": "12eb20a4",
   "metadata": {},
   "outputs": [],
   "source": [
    "df['x_2'] = [int(uls_1_2_instance.x[t].value) for t in range(1, n+1)]\n",
    "df['s_2'] = [int(uls_1_2_instance.s[t].value) for t in range(1, n+1)]\n",
    "df['y_2'] = [int(uls_1_2_instance.y[t].value) for t in range(1, n+1)]"
   ]
  },
  {
   "cell_type": "code",
   "execution_count": 234,
   "id": "1e0e0bcb",
   "metadata": {},
   "outputs": [
    {
     "data": {
      "text/html": [
       "<div>\n",
       "<style scoped>\n",
       "    .dataframe tbody tr th:only-of-type {\n",
       "        vertical-align: middle;\n",
       "    }\n",
       "\n",
       "    .dataframe tbody tr th {\n",
       "        vertical-align: top;\n",
       "    }\n",
       "\n",
       "    .dataframe thead th {\n",
       "        text-align: right;\n",
       "    }\n",
       "</style>\n",
       "<table border=\"1\" class=\"dataframe\">\n",
       "  <thead>\n",
       "    <tr style=\"text-align: right;\">\n",
       "      <th></th>\n",
       "      <th>d</th>\n",
       "      <th>f</th>\n",
       "      <th>p</th>\n",
       "      <th>h</th>\n",
       "      <th>x</th>\n",
       "      <th>s</th>\n",
       "      <th>y</th>\n",
       "      <th>x_2</th>\n",
       "      <th>s_2</th>\n",
       "      <th>y_2</th>\n",
       "    </tr>\n",
       "  </thead>\n",
       "  <tbody>\n",
       "    <tr>\n",
       "      <th>1</th>\n",
       "      <td>7</td>\n",
       "      <td>10</td>\n",
       "      <td>3</td>\n",
       "      <td>1</td>\n",
       "      <td>12</td>\n",
       "      <td>5</td>\n",
       "      <td>1</td>\n",
       "      <td>18</td>\n",
       "      <td>11</td>\n",
       "      <td>1</td>\n",
       "    </tr>\n",
       "    <tr>\n",
       "      <th>2</th>\n",
       "      <td>2</td>\n",
       "      <td>11</td>\n",
       "      <td>2</td>\n",
       "      <td>2</td>\n",
       "      <td>0</td>\n",
       "      <td>3</td>\n",
       "      <td>0</td>\n",
       "      <td>0</td>\n",
       "      <td>9</td>\n",
       "      <td>0</td>\n",
       "    </tr>\n",
       "    <tr>\n",
       "      <th>3</th>\n",
       "      <td>3</td>\n",
       "      <td>13</td>\n",
       "      <td>7</td>\n",
       "      <td>2</td>\n",
       "      <td>0</td>\n",
       "      <td>0</td>\n",
       "      <td>0</td>\n",
       "      <td>0</td>\n",
       "      <td>6</td>\n",
       "      <td>0</td>\n",
       "    </tr>\n",
       "    <tr>\n",
       "      <th>4</th>\n",
       "      <td>4</td>\n",
       "      <td>15</td>\n",
       "      <td>2</td>\n",
       "      <td>1</td>\n",
       "      <td>6</td>\n",
       "      <td>2</td>\n",
       "      <td>1</td>\n",
       "      <td>0</td>\n",
       "      <td>2</td>\n",
       "      <td>0</td>\n",
       "    </tr>\n",
       "    <tr>\n",
       "      <th>5</th>\n",
       "      <td>2</td>\n",
       "      <td>9</td>\n",
       "      <td>3</td>\n",
       "      <td>2</td>\n",
       "      <td>0</td>\n",
       "      <td>0</td>\n",
       "      <td>0</td>\n",
       "      <td>0</td>\n",
       "      <td>0</td>\n",
       "      <td>0</td>\n",
       "    </tr>\n",
       "  </tbody>\n",
       "</table>\n",
       "</div>"
      ],
      "text/plain": [
       "   d   f  p  h   x  s  y  x_2  s_2  y_2\n",
       "1  7  10  3  1  12  5  1   18   11    1\n",
       "2  2  11  2  2   0  3  0    0    9    0\n",
       "3  3  13  7  2   0  0  0    0    6    0\n",
       "4  4  15  2  1   6  2  1    0    2    0\n",
       "5  2   9  3  2   0  0  0    0    0    0"
      ]
     },
     "execution_count": 234,
     "metadata": {},
     "output_type": "execute_result"
    }
   ],
   "source": [
    "df"
   ]
  },
  {
   "cell_type": "code",
   "execution_count": null,
   "id": "623d27db",
   "metadata": {},
   "outputs": [],
   "source": [
    "def plot_lines(df, mode = 'lines+markers'):\n",
    "    fig = go.Figure()\n",
    "    for col in df.columns:\n",
    "        fig.add_trace(go.Scatter(x=df.index, y=df[col].values, name=col,  mode=mode))\n",
    "\n",
    "    fig.update_layout(width = 950, height = 400)\n",
    "    fig.show();"
   ]
  },
  {
   "cell_type": "code",
   "execution_count": null,
   "id": "6bbc7e0b",
   "metadata": {},
   "outputs": [],
   "source": [
    "\n",
    "# def read_data(file_name: str, keys: list) -> dict:\n",
    "#     n = None\n",
    "#     data = {}\n",
    "#     with open(file_name) as file:\n",
    "#         for index, line in enumerate(file):\n",
    "#             line_content = list(map(int, line.split()))\n",
    "#             if n is None:\n",
    "#                 n = len(line_content)\n",
    "#                 data['n'] = {None:n}\n",
    "#             data[keys[index]] = dict(zip(range(1, n+1), line_content))\n",
    "#     return data\n",
    "\n",
    "# data = read_data(FILE_PATH + FILE_NAME, KEYS)"
   ]
  }
 ],
 "metadata": {
  "kernelspec": {
   "display_name": "Python 3 (ipykernel)",
   "language": "python",
   "name": "python3"
  },
  "language_info": {
   "codemirror_mode": {
    "name": "ipython",
    "version": 3
   },
   "file_extension": ".py",
   "mimetype": "text/x-python",
   "name": "python",
   "nbconvert_exporter": "python",
   "pygments_lexer": "ipython3",
   "version": "3.9.12"
  }
 },
 "nbformat": 4,
 "nbformat_minor": 5
}
