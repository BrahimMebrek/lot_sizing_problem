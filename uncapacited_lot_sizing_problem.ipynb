{
 "cells": [
  {
   "cell_type": "markdown",
   "id": "9b8c7c7c",
   "metadata": {},
   "source": [
    "# Uncapacitated Lot-Sizing Problem\n",
    "The problem is to decide a production plan for a $n$-period horizon for a single product.\n",
    "\n",
    "The basic model can be viewed as having data:\n",
    "- $d_t$ the demand in period $t$\n",
    "- $f_t$ the fixed production cost in period $t$\n",
    "- $p_t$ the unit production cost in period $t$\n",
    "- $h_t$ the unit storage cost in period $t$\n",
    "\n",
    "The production plan must satisfy the demand with a minimum cost."
   ]
  },
  {
   "cell_type": "code",
   "execution_count": 423,
   "id": "f53fbbae",
   "metadata": {},
   "outputs": [],
   "source": [
    "import numpy as np\n",
    "import pandas as pd\n",
    "import matplotlib.pyplot as plt\n",
    "from ipywidgets import interact, interactive, fixed, interact_manual, widgets, Dropdown\n",
    "\n",
    "\n",
    "def read_data(file_name: str, keys: list) -> pd.DataFrame:\n",
    "    df = pd.read_table(file_name, sep=\" \", header = None).T\n",
    "    df.columns = keys\n",
    "    df.index = range(1, df.shape[0] + 1)\n",
    "    return df\n",
    "\n",
    "def transform_df_into_dict(df: pd.DataFrame) -> dict:\n",
    "    n = df.shape[0]\n",
    "    data = df.to_dict()\n",
    "    data['n'] = {None:n}\n",
    "    return data\n",
    "\n",
    "FILE_PATH = \"data/\"\n",
    "FILE_NAME = \"instance_0005.dat\"\n",
    "KEYS = [\"d\", \"f\", \"p\", \"h\"]\n",
    "\n",
    "df = read_data(FILE_PATH + FILE_NAME, KEYS)\n",
    "data = transform_df_into_dict(df)\n",
    "\n",
    "\n",
    "# def read_data(file_name: str, keys: list) -> dict:\n",
    "#     n = None\n",
    "#     data = {}\n",
    "#     with open(file_name) as file:\n",
    "#         for index, line in enumerate(file):\n",
    "#             line_content = list(map(int, line.split()))\n",
    "#             if n is None:\n",
    "#                 n = len(line_content)\n",
    "#                 data['n'] = {None:n}\n",
    "#             data[keys[index]] = dict(zip(range(1, n+1), line_content))\n",
    "#     return data\n",
    "\n",
    "# data = read_data(FILE_PATH + FILE_NAME, KEYS)"
   ]
  },
  {
   "cell_type": "code",
   "execution_count": 425,
   "id": "9ca1e955",
   "metadata": {},
   "outputs": [
    {
     "data": {
      "text/plain": [
       "{'d': {1: 7, 2: 2, 3: 3, 4: 4, 5: 2},\n",
       " 'f': {1: 10, 2: 11, 3: 13, 4: 15, 5: 9},\n",
       " 'p': {1: 3, 2: 2, 3: 7, 4: 2, 5: 3},\n",
       " 'h': {1: 1, 2: 2, 3: 2, 4: 1, 5: 2},\n",
       " 'n': {None: 5}}"
      ]
     },
     "execution_count": 425,
     "metadata": {},
     "output_type": "execute_result"
    }
   ],
   "source": [
    "data"
   ]
  },
  {
   "cell_type": "code",
   "execution_count": 426,
   "id": "307dfa89",
   "metadata": {},
   "outputs": [],
   "source": [
    "import pyomo.environ as pyo\n",
    "from pyomo.opt import SolverFactory, SolverResults\n",
    "import os\n",
    "\n",
    "def create_instance(model: pyo.AbstractModel, data: dict) -> pyo.ConcreteModel:\n",
    "    \"\"\"Creates a Pyomo instance for a given Pyomo abstract model and a data dictionary\"\"\"\n",
    "    return model.create_instance(data = {None:data})\n",
    "\n",
    "def solve_instance_locally(instance: pyo.ConcreteModel, solver_name: str = \"cplex\") -> SolverResults:\n",
    "    \"\"\"Solves a Pyomo instance locally\"\"\"\n",
    "    solver = pyo.SolverFactory(solver_name)\n",
    "    result = solver.solve(instance)\n",
    "    return result\n",
    "\n",
    "def solve_instance_externally(instance: pyo.ConcreteModel, email: str, solver_name: str = \"cplex\", load: bool = True) -> SolverResults:\n",
    "    \"\"\"Solves a Pyomo instance on the NEOS servers\"\"\"\n",
    "    os.environ[\"NEOS_EMAIL\"] = email\n",
    "    solver_manager = pyo.SolverManagerFactory('neos')\n",
    "    result = solver_manager.solve(instance, opt=solver_name, load_solutions=load)\n",
    "    return result"
   ]
  },
  {
   "cell_type": "markdown",
   "id": "70f9f1e9",
   "metadata": {},
   "source": [
    "## Integer Linear Programming Formulation 1\n",
    "\n",
    "The variables :\n",
    "- $x_t$ the number of items produced in period $t$, $\\forall t \\in \\{1,\\dots,n\\}$\n",
    "- $y_t = 1$ if production occurs in period $t$, otherwise $y_t = 0$, $\\forall t \\in \\{1,\\dots,n\\}$\n",
    "- $s_t$ the number of items stored at the end of period $t$, $\\forall t \\in \\{0,\\dots,n\\}$\n",
    "\n",
    "The model :\n",
    "\n",
    "$\\begin{cases}\n",
    "    \\text{Minimize} \\sum_{t=1}^{n} f_t y_t + \\sum_{t=1}^{n} p_t x_t + \\sum_{t=1}^{n} h_t s_t \\\\\n",
    "    s_{t-1} + x_t = d_t + s_t & \\forall t \\in \\{1,\\dots,n\\}\\\\\n",
    "    x_t \\le M_t y_t & \\forall t \\in \\{1,\\dots,n\\}\\\\\n",
    "    y_t \\in \\{0, 1\\} & \\forall t \\in \\{1,\\dots,n\\}\\\\\n",
    "    x_t, s_t \\ge 0 & \\forall t \\in \\{1,\\dots,n\\}\\\\\n",
    "    s_0 = 0\n",
    "\\end{cases}$\n",
    "\n",
    "With :\n",
    "- $M_t = \\sum_{k=t}^n d_k$ an upperbound of $M_t$"
   ]
  },
  {
   "cell_type": "code",
   "execution_count": 427,
   "id": "6ffc0280",
   "metadata": {},
   "outputs": [],
   "source": [
    "# Setting up the big M\n",
    "data['M'] = {t:sum(list(data['d'].values())[t-1:]) for (t, value) in data['d'].items()}\n",
    "data['s0'] = {None:0}"
   ]
  },
  {
   "cell_type": "code",
   "execution_count": 428,
   "id": "b29db290",
   "metadata": {},
   "outputs": [],
   "source": [
    "def create_uls_1_abstract_model() -> pyo.AbstractModel:\n",
    "    \"\"\"Creates a Pyomo abstract model for ULS 1\"\"\"\n",
    "    model = pyo.AbstractModel()\n",
    "\n",
    "    # immutable parameters\n",
    "    model.n = pyo.Param(domain = pyo.NonNegativeIntegers)\n",
    "\n",
    "    # sets\n",
    "    model.N = pyo.RangeSet(1, model.n)\n",
    "    model.S = pyo.RangeSet(0, model.n)\n",
    "\n",
    "    # mutable parameters\n",
    "    model.s0 = pyo.Param(domain = pyo.NonNegativeIntegers, mutable = True)\n",
    "\n",
    "    model.d = pyo.Param(model.N, domain = pyo.NonNegativeIntegers, mutable = True)\n",
    "    model.f = pyo.Param(model.N, domain = pyo.NonNegativeIntegers, mutable = True)\n",
    "    model.p = pyo.Param(model.N, domain = pyo.NonNegativeIntegers, mutable = True)\n",
    "    model.h = pyo.Param(model.N, domain = pyo.NonNegativeIntegers, mutable = True)\n",
    "\n",
    "    model.M = pyo.Param(model.N, mutable = True)\n",
    "    \n",
    "    # variables\n",
    "    model.x = pyo.Var(model.N, domain = pyo.NonNegativeIntegers)\n",
    "    model.s = pyo.Var(model.S, domain = pyo.NonNegativeIntegers)\n",
    "    model.y = pyo.Var(model.N, domain = pyo.Binary)\n",
    "    \n",
    "    # objective function\n",
    "    model.objective = pyo.Objective(rule = objective_rule, sense = pyo.minimize)\n",
    "\n",
    "    # constraints\n",
    "    model.conservation_constraint  = pyo.Constraint(model.N, rule = conservation_rule)\n",
    "    model.big_m_constraint         = pyo.Constraint(model.N, rule = big_m_rule)\n",
    "    model.initial_stock_constraint = pyo.Constraint(rule = initial_stock_rule)\n",
    "    \n",
    "    return model\n",
    "\n",
    "def objective_rule(model: pyo.AbstractModel) -> pyo.Expression:\n",
    "    return sum(model.f[t] * model.y[t] + \\\n",
    "               model.p[t] * model.x[t] + \\\n",
    "               model.h[t] * model.s[t] for t in model.N)\n",
    "\n",
    "def conservation_rule(model: pyo.AbstractModel, t: int) -> pyo.Expression:\n",
    "    \"\"\"Conservation rule for ULS 1\"\"\"\n",
    "    return model.s[t-1] + model.x[t] == model.d[t] + model.s[t]\n",
    "\n",
    "def big_m_rule(model: pyo.AbstractModel, t: int) -> pyo.Expression:\n",
    "    \"\"\"Big M rule for ULS 1\"\"\"\n",
    "    return model.x[t] <= model.M[t] * model.y[t]\n",
    "\n",
    "def initial_stock_rule(model: pyo.AbstractModel) -> pyo.Expression:\n",
    "    \"\"\"Initial Stock rule for ULS 1\"\"\"\n",
    "    return model.s[0] == model.s0"
   ]
  },
  {
   "cell_type": "code",
   "execution_count": 429,
   "id": "091b1716",
   "metadata": {},
   "outputs": [],
   "source": [
    "uls_1 = create_uls_1_abstract_model()\n",
    "uls_1_instance = create_instance(uls_1, data)\n",
    "result = solve_instance_locally(uls_1_instance, \"cplex\")"
   ]
  },
  {
   "cell_type": "code",
   "execution_count": 430,
   "id": "b2658a85",
   "metadata": {},
   "outputs": [
    {
     "name": "stdout",
     "output_type": "stream",
     "text": [
      "# ==========================================================\n",
      "# = Solver Results                                         =\n",
      "# ==========================================================\n",
      "# ----------------------------------------------------------\n",
      "#   Problem Information\n",
      "# ----------------------------------------------------------\n",
      "Problem: \n",
      "- Name: tmpthfp0l5i\n",
      "  Lower bound: 86.0\n",
      "  Upper bound: 86.0\n",
      "  Number of objectives: 1\n",
      "  Number of constraints: 12\n",
      "  Number of variables: 17\n",
      "  Number of nonzeros: 27\n",
      "  Sense: minimize\n",
      "# ----------------------------------------------------------\n",
      "#   Solver Information\n",
      "# ----------------------------------------------------------\n",
      "Solver: \n",
      "- Status: ok\n",
      "  User time: 0.02\n",
      "  Termination condition: optimal\n",
      "  Termination message: MIP - Integer optimal solution\\x3a Objective = 8.6000000000e+01\n",
      "  Statistics: \n",
      "    Branch and bound: \n",
      "      Number of bounded subproblems: 0\n",
      "      Number of created subproblems: 0\n",
      "  Error rc: 0\n",
      "  Time: 0.10030364990234375\n",
      "# ----------------------------------------------------------\n",
      "#   Solution Information\n",
      "# ----------------------------------------------------------\n",
      "Solution: \n",
      "- number of solutions: 0\n",
      "  number of solutions displayed: 0\n"
     ]
    }
   ],
   "source": [
    "result.write()"
   ]
  },
  {
   "cell_type": "code",
   "execution_count": 170,
   "id": "70b8507b",
   "metadata": {},
   "outputs": [],
   "source": [
    "#x = {t:int(uls_1_instance.x[t].value) for t in range(1, n+1)}\n",
    "#s = {t:int(uls_1_instance.s[t].value) for t in range(1, n+1)}\n",
    "#y = {t:int(uls_1_instance.y[t].value) for t in range(1, n+1)}"
   ]
  },
  {
   "cell_type": "code",
   "execution_count": 259,
   "id": "93668bc2",
   "metadata": {},
   "outputs": [],
   "source": [
    "df['x'] = [int(uls_1_instance.x[t].value) for t in range(1, n+1)]\n",
    "df['s'] = [int(uls_1_instance.s[t].value) for t in range(1, n+1)]\n",
    "df['y'] = [int(uls_1_instance.y[t].value) for t in range(1, n+1)]"
   ]
  },
  {
   "cell_type": "code",
   "execution_count": 260,
   "id": "c1e295da",
   "metadata": {},
   "outputs": [
    {
     "data": {
      "application/vnd.plotly.v1+json": {
       "config": {
        "plotlyServerURL": "https://plot.ly"
       },
       "data": [
        {
         "mode": "lines+markers",
         "name": "d",
         "type": "scatter",
         "x": [
          1,
          2,
          3,
          4,
          5
         ],
         "y": [
          7,
          2,
          3,
          4,
          2
         ]
        },
        {
         "mode": "lines+markers",
         "name": "f",
         "type": "scatter",
         "x": [
          1,
          2,
          3,
          4,
          5
         ],
         "y": [
          10,
          11,
          13,
          15,
          9
         ]
        },
        {
         "mode": "lines+markers",
         "name": "p",
         "type": "scatter",
         "x": [
          1,
          2,
          3,
          4,
          5
         ],
         "y": [
          3,
          2,
          7,
          2,
          3
         ]
        },
        {
         "mode": "lines+markers",
         "name": "h",
         "type": "scatter",
         "x": [
          1,
          2,
          3,
          4,
          5
         ],
         "y": [
          1,
          2,
          2,
          1,
          2
         ]
        },
        {
         "mode": "lines+markers",
         "name": "x",
         "type": "scatter",
         "x": [
          1,
          2,
          3,
          4,
          5
         ],
         "y": [
          12,
          0,
          0,
          6,
          0
         ]
        },
        {
         "mode": "lines+markers",
         "name": "s",
         "type": "scatter",
         "x": [
          1,
          2,
          3,
          4,
          5
         ],
         "y": [
          5,
          3,
          0,
          2,
          0
         ]
        },
        {
         "mode": "lines+markers",
         "name": "y",
         "type": "scatter",
         "x": [
          1,
          2,
          3,
          4,
          5
         ],
         "y": [
          1,
          0,
          0,
          1,
          0
         ]
        }
       ],
       "layout": {
        "height": 400,
        "template": {
         "data": {
          "bar": [
           {
            "error_x": {
             "color": "#2a3f5f"
            },
            "error_y": {
             "color": "#2a3f5f"
            },
            "marker": {
             "line": {
              "color": "#E5ECF6",
              "width": 0.5
             },
             "pattern": {
              "fillmode": "overlay",
              "size": 10,
              "solidity": 0.2
             }
            },
            "type": "bar"
           }
          ],
          "barpolar": [
           {
            "marker": {
             "line": {
              "color": "#E5ECF6",
              "width": 0.5
             },
             "pattern": {
              "fillmode": "overlay",
              "size": 10,
              "solidity": 0.2
             }
            },
            "type": "barpolar"
           }
          ],
          "carpet": [
           {
            "aaxis": {
             "endlinecolor": "#2a3f5f",
             "gridcolor": "white",
             "linecolor": "white",
             "minorgridcolor": "white",
             "startlinecolor": "#2a3f5f"
            },
            "baxis": {
             "endlinecolor": "#2a3f5f",
             "gridcolor": "white",
             "linecolor": "white",
             "minorgridcolor": "white",
             "startlinecolor": "#2a3f5f"
            },
            "type": "carpet"
           }
          ],
          "choropleth": [
           {
            "colorbar": {
             "outlinewidth": 0,
             "ticks": ""
            },
            "type": "choropleth"
           }
          ],
          "contour": [
           {
            "colorbar": {
             "outlinewidth": 0,
             "ticks": ""
            },
            "colorscale": [
             [
              0,
              "#0d0887"
             ],
             [
              0.1111111111111111,
              "#46039f"
             ],
             [
              0.2222222222222222,
              "#7201a8"
             ],
             [
              0.3333333333333333,
              "#9c179e"
             ],
             [
              0.4444444444444444,
              "#bd3786"
             ],
             [
              0.5555555555555556,
              "#d8576b"
             ],
             [
              0.6666666666666666,
              "#ed7953"
             ],
             [
              0.7777777777777778,
              "#fb9f3a"
             ],
             [
              0.8888888888888888,
              "#fdca26"
             ],
             [
              1,
              "#f0f921"
             ]
            ],
            "type": "contour"
           }
          ],
          "contourcarpet": [
           {
            "colorbar": {
             "outlinewidth": 0,
             "ticks": ""
            },
            "type": "contourcarpet"
           }
          ],
          "heatmap": [
           {
            "colorbar": {
             "outlinewidth": 0,
             "ticks": ""
            },
            "colorscale": [
             [
              0,
              "#0d0887"
             ],
             [
              0.1111111111111111,
              "#46039f"
             ],
             [
              0.2222222222222222,
              "#7201a8"
             ],
             [
              0.3333333333333333,
              "#9c179e"
             ],
             [
              0.4444444444444444,
              "#bd3786"
             ],
             [
              0.5555555555555556,
              "#d8576b"
             ],
             [
              0.6666666666666666,
              "#ed7953"
             ],
             [
              0.7777777777777778,
              "#fb9f3a"
             ],
             [
              0.8888888888888888,
              "#fdca26"
             ],
             [
              1,
              "#f0f921"
             ]
            ],
            "type": "heatmap"
           }
          ],
          "heatmapgl": [
           {
            "colorbar": {
             "outlinewidth": 0,
             "ticks": ""
            },
            "colorscale": [
             [
              0,
              "#0d0887"
             ],
             [
              0.1111111111111111,
              "#46039f"
             ],
             [
              0.2222222222222222,
              "#7201a8"
             ],
             [
              0.3333333333333333,
              "#9c179e"
             ],
             [
              0.4444444444444444,
              "#bd3786"
             ],
             [
              0.5555555555555556,
              "#d8576b"
             ],
             [
              0.6666666666666666,
              "#ed7953"
             ],
             [
              0.7777777777777778,
              "#fb9f3a"
             ],
             [
              0.8888888888888888,
              "#fdca26"
             ],
             [
              1,
              "#f0f921"
             ]
            ],
            "type": "heatmapgl"
           }
          ],
          "histogram": [
           {
            "marker": {
             "pattern": {
              "fillmode": "overlay",
              "size": 10,
              "solidity": 0.2
             }
            },
            "type": "histogram"
           }
          ],
          "histogram2d": [
           {
            "colorbar": {
             "outlinewidth": 0,
             "ticks": ""
            },
            "colorscale": [
             [
              0,
              "#0d0887"
             ],
             [
              0.1111111111111111,
              "#46039f"
             ],
             [
              0.2222222222222222,
              "#7201a8"
             ],
             [
              0.3333333333333333,
              "#9c179e"
             ],
             [
              0.4444444444444444,
              "#bd3786"
             ],
             [
              0.5555555555555556,
              "#d8576b"
             ],
             [
              0.6666666666666666,
              "#ed7953"
             ],
             [
              0.7777777777777778,
              "#fb9f3a"
             ],
             [
              0.8888888888888888,
              "#fdca26"
             ],
             [
              1,
              "#f0f921"
             ]
            ],
            "type": "histogram2d"
           }
          ],
          "histogram2dcontour": [
           {
            "colorbar": {
             "outlinewidth": 0,
             "ticks": ""
            },
            "colorscale": [
             [
              0,
              "#0d0887"
             ],
             [
              0.1111111111111111,
              "#46039f"
             ],
             [
              0.2222222222222222,
              "#7201a8"
             ],
             [
              0.3333333333333333,
              "#9c179e"
             ],
             [
              0.4444444444444444,
              "#bd3786"
             ],
             [
              0.5555555555555556,
              "#d8576b"
             ],
             [
              0.6666666666666666,
              "#ed7953"
             ],
             [
              0.7777777777777778,
              "#fb9f3a"
             ],
             [
              0.8888888888888888,
              "#fdca26"
             ],
             [
              1,
              "#f0f921"
             ]
            ],
            "type": "histogram2dcontour"
           }
          ],
          "mesh3d": [
           {
            "colorbar": {
             "outlinewidth": 0,
             "ticks": ""
            },
            "type": "mesh3d"
           }
          ],
          "parcoords": [
           {
            "line": {
             "colorbar": {
              "outlinewidth": 0,
              "ticks": ""
             }
            },
            "type": "parcoords"
           }
          ],
          "pie": [
           {
            "automargin": true,
            "type": "pie"
           }
          ],
          "scatter": [
           {
            "marker": {
             "colorbar": {
              "outlinewidth": 0,
              "ticks": ""
             }
            },
            "type": "scatter"
           }
          ],
          "scatter3d": [
           {
            "line": {
             "colorbar": {
              "outlinewidth": 0,
              "ticks": ""
             }
            },
            "marker": {
             "colorbar": {
              "outlinewidth": 0,
              "ticks": ""
             }
            },
            "type": "scatter3d"
           }
          ],
          "scattercarpet": [
           {
            "marker": {
             "colorbar": {
              "outlinewidth": 0,
              "ticks": ""
             }
            },
            "type": "scattercarpet"
           }
          ],
          "scattergeo": [
           {
            "marker": {
             "colorbar": {
              "outlinewidth": 0,
              "ticks": ""
             }
            },
            "type": "scattergeo"
           }
          ],
          "scattergl": [
           {
            "marker": {
             "colorbar": {
              "outlinewidth": 0,
              "ticks": ""
             }
            },
            "type": "scattergl"
           }
          ],
          "scattermapbox": [
           {
            "marker": {
             "colorbar": {
              "outlinewidth": 0,
              "ticks": ""
             }
            },
            "type": "scattermapbox"
           }
          ],
          "scatterpolar": [
           {
            "marker": {
             "colorbar": {
              "outlinewidth": 0,
              "ticks": ""
             }
            },
            "type": "scatterpolar"
           }
          ],
          "scatterpolargl": [
           {
            "marker": {
             "colorbar": {
              "outlinewidth": 0,
              "ticks": ""
             }
            },
            "type": "scatterpolargl"
           }
          ],
          "scatterternary": [
           {
            "marker": {
             "colorbar": {
              "outlinewidth": 0,
              "ticks": ""
             }
            },
            "type": "scatterternary"
           }
          ],
          "surface": [
           {
            "colorbar": {
             "outlinewidth": 0,
             "ticks": ""
            },
            "colorscale": [
             [
              0,
              "#0d0887"
             ],
             [
              0.1111111111111111,
              "#46039f"
             ],
             [
              0.2222222222222222,
              "#7201a8"
             ],
             [
              0.3333333333333333,
              "#9c179e"
             ],
             [
              0.4444444444444444,
              "#bd3786"
             ],
             [
              0.5555555555555556,
              "#d8576b"
             ],
             [
              0.6666666666666666,
              "#ed7953"
             ],
             [
              0.7777777777777778,
              "#fb9f3a"
             ],
             [
              0.8888888888888888,
              "#fdca26"
             ],
             [
              1,
              "#f0f921"
             ]
            ],
            "type": "surface"
           }
          ],
          "table": [
           {
            "cells": {
             "fill": {
              "color": "#EBF0F8"
             },
             "line": {
              "color": "white"
             }
            },
            "header": {
             "fill": {
              "color": "#C8D4E3"
             },
             "line": {
              "color": "white"
             }
            },
            "type": "table"
           }
          ]
         },
         "layout": {
          "annotationdefaults": {
           "arrowcolor": "#2a3f5f",
           "arrowhead": 0,
           "arrowwidth": 1
          },
          "autotypenumbers": "strict",
          "coloraxis": {
           "colorbar": {
            "outlinewidth": 0,
            "ticks": ""
           }
          },
          "colorscale": {
           "diverging": [
            [
             0,
             "#8e0152"
            ],
            [
             0.1,
             "#c51b7d"
            ],
            [
             0.2,
             "#de77ae"
            ],
            [
             0.3,
             "#f1b6da"
            ],
            [
             0.4,
             "#fde0ef"
            ],
            [
             0.5,
             "#f7f7f7"
            ],
            [
             0.6,
             "#e6f5d0"
            ],
            [
             0.7,
             "#b8e186"
            ],
            [
             0.8,
             "#7fbc41"
            ],
            [
             0.9,
             "#4d9221"
            ],
            [
             1,
             "#276419"
            ]
           ],
           "sequential": [
            [
             0,
             "#0d0887"
            ],
            [
             0.1111111111111111,
             "#46039f"
            ],
            [
             0.2222222222222222,
             "#7201a8"
            ],
            [
             0.3333333333333333,
             "#9c179e"
            ],
            [
             0.4444444444444444,
             "#bd3786"
            ],
            [
             0.5555555555555556,
             "#d8576b"
            ],
            [
             0.6666666666666666,
             "#ed7953"
            ],
            [
             0.7777777777777778,
             "#fb9f3a"
            ],
            [
             0.8888888888888888,
             "#fdca26"
            ],
            [
             1,
             "#f0f921"
            ]
           ],
           "sequentialminus": [
            [
             0,
             "#0d0887"
            ],
            [
             0.1111111111111111,
             "#46039f"
            ],
            [
             0.2222222222222222,
             "#7201a8"
            ],
            [
             0.3333333333333333,
             "#9c179e"
            ],
            [
             0.4444444444444444,
             "#bd3786"
            ],
            [
             0.5555555555555556,
             "#d8576b"
            ],
            [
             0.6666666666666666,
             "#ed7953"
            ],
            [
             0.7777777777777778,
             "#fb9f3a"
            ],
            [
             0.8888888888888888,
             "#fdca26"
            ],
            [
             1,
             "#f0f921"
            ]
           ]
          },
          "colorway": [
           "#636efa",
           "#EF553B",
           "#00cc96",
           "#ab63fa",
           "#FFA15A",
           "#19d3f3",
           "#FF6692",
           "#B6E880",
           "#FF97FF",
           "#FECB52"
          ],
          "font": {
           "color": "#2a3f5f"
          },
          "geo": {
           "bgcolor": "white",
           "lakecolor": "white",
           "landcolor": "#E5ECF6",
           "showlakes": true,
           "showland": true,
           "subunitcolor": "white"
          },
          "hoverlabel": {
           "align": "left"
          },
          "hovermode": "closest",
          "mapbox": {
           "style": "light"
          },
          "paper_bgcolor": "white",
          "plot_bgcolor": "#E5ECF6",
          "polar": {
           "angularaxis": {
            "gridcolor": "white",
            "linecolor": "white",
            "ticks": ""
           },
           "bgcolor": "#E5ECF6",
           "radialaxis": {
            "gridcolor": "white",
            "linecolor": "white",
            "ticks": ""
           }
          },
          "scene": {
           "xaxis": {
            "backgroundcolor": "#E5ECF6",
            "gridcolor": "white",
            "gridwidth": 2,
            "linecolor": "white",
            "showbackground": true,
            "ticks": "",
            "zerolinecolor": "white"
           },
           "yaxis": {
            "backgroundcolor": "#E5ECF6",
            "gridcolor": "white",
            "gridwidth": 2,
            "linecolor": "white",
            "showbackground": true,
            "ticks": "",
            "zerolinecolor": "white"
           },
           "zaxis": {
            "backgroundcolor": "#E5ECF6",
            "gridcolor": "white",
            "gridwidth": 2,
            "linecolor": "white",
            "showbackground": true,
            "ticks": "",
            "zerolinecolor": "white"
           }
          },
          "shapedefaults": {
           "line": {
            "color": "#2a3f5f"
           }
          },
          "ternary": {
           "aaxis": {
            "gridcolor": "white",
            "linecolor": "white",
            "ticks": ""
           },
           "baxis": {
            "gridcolor": "white",
            "linecolor": "white",
            "ticks": ""
           },
           "bgcolor": "#E5ECF6",
           "caxis": {
            "gridcolor": "white",
            "linecolor": "white",
            "ticks": ""
           }
          },
          "title": {
           "x": 0.05
          },
          "xaxis": {
           "automargin": true,
           "gridcolor": "white",
           "linecolor": "white",
           "ticks": "",
           "title": {
            "standoff": 15
           },
           "zerolinecolor": "white",
           "zerolinewidth": 2
          },
          "yaxis": {
           "automargin": true,
           "gridcolor": "white",
           "linecolor": "white",
           "ticks": "",
           "title": {
            "standoff": 15
           },
           "zerolinecolor": "white",
           "zerolinewidth": 2
          }
         }
        },
        "width": 950
       }
      },
      "text/html": [
       "<div>                            <div id=\"a83c159d-4381-44e5-8216-349c79560284\" class=\"plotly-graph-div\" style=\"height:400px; width:950px;\"></div>            <script type=\"text/javascript\">                require([\"plotly\"], function(Plotly) {                    window.PLOTLYENV=window.PLOTLYENV || {};                                    if (document.getElementById(\"a83c159d-4381-44e5-8216-349c79560284\")) {                    Plotly.newPlot(                        \"a83c159d-4381-44e5-8216-349c79560284\",                        [{\"mode\":\"lines+markers\",\"name\":\"d\",\"x\":[1,2,3,4,5],\"y\":[7,2,3,4,2],\"type\":\"scatter\"},{\"mode\":\"lines+markers\",\"name\":\"f\",\"x\":[1,2,3,4,5],\"y\":[10,11,13,15,9],\"type\":\"scatter\"},{\"mode\":\"lines+markers\",\"name\":\"p\",\"x\":[1,2,3,4,5],\"y\":[3,2,7,2,3],\"type\":\"scatter\"},{\"mode\":\"lines+markers\",\"name\":\"h\",\"x\":[1,2,3,4,5],\"y\":[1,2,2,1,2],\"type\":\"scatter\"},{\"mode\":\"lines+markers\",\"name\":\"x\",\"x\":[1,2,3,4,5],\"y\":[12,0,0,6,0],\"type\":\"scatter\"},{\"mode\":\"lines+markers\",\"name\":\"s\",\"x\":[1,2,3,4,5],\"y\":[5,3,0,2,0],\"type\":\"scatter\"},{\"mode\":\"lines+markers\",\"name\":\"y\",\"x\":[1,2,3,4,5],\"y\":[1,0,0,1,0],\"type\":\"scatter\"}],                        {\"template\":{\"data\":{\"bar\":[{\"error_x\":{\"color\":\"#2a3f5f\"},\"error_y\":{\"color\":\"#2a3f5f\"},\"marker\":{\"line\":{\"color\":\"#E5ECF6\",\"width\":0.5},\"pattern\":{\"fillmode\":\"overlay\",\"size\":10,\"solidity\":0.2}},\"type\":\"bar\"}],\"barpolar\":[{\"marker\":{\"line\":{\"color\":\"#E5ECF6\",\"width\":0.5},\"pattern\":{\"fillmode\":\"overlay\",\"size\":10,\"solidity\":0.2}},\"type\":\"barpolar\"}],\"carpet\":[{\"aaxis\":{\"endlinecolor\":\"#2a3f5f\",\"gridcolor\":\"white\",\"linecolor\":\"white\",\"minorgridcolor\":\"white\",\"startlinecolor\":\"#2a3f5f\"},\"baxis\":{\"endlinecolor\":\"#2a3f5f\",\"gridcolor\":\"white\",\"linecolor\":\"white\",\"minorgridcolor\":\"white\",\"startlinecolor\":\"#2a3f5f\"},\"type\":\"carpet\"}],\"choropleth\":[{\"colorbar\":{\"outlinewidth\":0,\"ticks\":\"\"},\"type\":\"choropleth\"}],\"contour\":[{\"colorbar\":{\"outlinewidth\":0,\"ticks\":\"\"},\"colorscale\":[[0.0,\"#0d0887\"],[0.1111111111111111,\"#46039f\"],[0.2222222222222222,\"#7201a8\"],[0.3333333333333333,\"#9c179e\"],[0.4444444444444444,\"#bd3786\"],[0.5555555555555556,\"#d8576b\"],[0.6666666666666666,\"#ed7953\"],[0.7777777777777778,\"#fb9f3a\"],[0.8888888888888888,\"#fdca26\"],[1.0,\"#f0f921\"]],\"type\":\"contour\"}],\"contourcarpet\":[{\"colorbar\":{\"outlinewidth\":0,\"ticks\":\"\"},\"type\":\"contourcarpet\"}],\"heatmap\":[{\"colorbar\":{\"outlinewidth\":0,\"ticks\":\"\"},\"colorscale\":[[0.0,\"#0d0887\"],[0.1111111111111111,\"#46039f\"],[0.2222222222222222,\"#7201a8\"],[0.3333333333333333,\"#9c179e\"],[0.4444444444444444,\"#bd3786\"],[0.5555555555555556,\"#d8576b\"],[0.6666666666666666,\"#ed7953\"],[0.7777777777777778,\"#fb9f3a\"],[0.8888888888888888,\"#fdca26\"],[1.0,\"#f0f921\"]],\"type\":\"heatmap\"}],\"heatmapgl\":[{\"colorbar\":{\"outlinewidth\":0,\"ticks\":\"\"},\"colorscale\":[[0.0,\"#0d0887\"],[0.1111111111111111,\"#46039f\"],[0.2222222222222222,\"#7201a8\"],[0.3333333333333333,\"#9c179e\"],[0.4444444444444444,\"#bd3786\"],[0.5555555555555556,\"#d8576b\"],[0.6666666666666666,\"#ed7953\"],[0.7777777777777778,\"#fb9f3a\"],[0.8888888888888888,\"#fdca26\"],[1.0,\"#f0f921\"]],\"type\":\"heatmapgl\"}],\"histogram\":[{\"marker\":{\"pattern\":{\"fillmode\":\"overlay\",\"size\":10,\"solidity\":0.2}},\"type\":\"histogram\"}],\"histogram2d\":[{\"colorbar\":{\"outlinewidth\":0,\"ticks\":\"\"},\"colorscale\":[[0.0,\"#0d0887\"],[0.1111111111111111,\"#46039f\"],[0.2222222222222222,\"#7201a8\"],[0.3333333333333333,\"#9c179e\"],[0.4444444444444444,\"#bd3786\"],[0.5555555555555556,\"#d8576b\"],[0.6666666666666666,\"#ed7953\"],[0.7777777777777778,\"#fb9f3a\"],[0.8888888888888888,\"#fdca26\"],[1.0,\"#f0f921\"]],\"type\":\"histogram2d\"}],\"histogram2dcontour\":[{\"colorbar\":{\"outlinewidth\":0,\"ticks\":\"\"},\"colorscale\":[[0.0,\"#0d0887\"],[0.1111111111111111,\"#46039f\"],[0.2222222222222222,\"#7201a8\"],[0.3333333333333333,\"#9c179e\"],[0.4444444444444444,\"#bd3786\"],[0.5555555555555556,\"#d8576b\"],[0.6666666666666666,\"#ed7953\"],[0.7777777777777778,\"#fb9f3a\"],[0.8888888888888888,\"#fdca26\"],[1.0,\"#f0f921\"]],\"type\":\"histogram2dcontour\"}],\"mesh3d\":[{\"colorbar\":{\"outlinewidth\":0,\"ticks\":\"\"},\"type\":\"mesh3d\"}],\"parcoords\":[{\"line\":{\"colorbar\":{\"outlinewidth\":0,\"ticks\":\"\"}},\"type\":\"parcoords\"}],\"pie\":[{\"automargin\":true,\"type\":\"pie\"}],\"scatter\":[{\"marker\":{\"colorbar\":{\"outlinewidth\":0,\"ticks\":\"\"}},\"type\":\"scatter\"}],\"scatter3d\":[{\"line\":{\"colorbar\":{\"outlinewidth\":0,\"ticks\":\"\"}},\"marker\":{\"colorbar\":{\"outlinewidth\":0,\"ticks\":\"\"}},\"type\":\"scatter3d\"}],\"scattercarpet\":[{\"marker\":{\"colorbar\":{\"outlinewidth\":0,\"ticks\":\"\"}},\"type\":\"scattercarpet\"}],\"scattergeo\":[{\"marker\":{\"colorbar\":{\"outlinewidth\":0,\"ticks\":\"\"}},\"type\":\"scattergeo\"}],\"scattergl\":[{\"marker\":{\"colorbar\":{\"outlinewidth\":0,\"ticks\":\"\"}},\"type\":\"scattergl\"}],\"scattermapbox\":[{\"marker\":{\"colorbar\":{\"outlinewidth\":0,\"ticks\":\"\"}},\"type\":\"scattermapbox\"}],\"scatterpolar\":[{\"marker\":{\"colorbar\":{\"outlinewidth\":0,\"ticks\":\"\"}},\"type\":\"scatterpolar\"}],\"scatterpolargl\":[{\"marker\":{\"colorbar\":{\"outlinewidth\":0,\"ticks\":\"\"}},\"type\":\"scatterpolargl\"}],\"scatterternary\":[{\"marker\":{\"colorbar\":{\"outlinewidth\":0,\"ticks\":\"\"}},\"type\":\"scatterternary\"}],\"surface\":[{\"colorbar\":{\"outlinewidth\":0,\"ticks\":\"\"},\"colorscale\":[[0.0,\"#0d0887\"],[0.1111111111111111,\"#46039f\"],[0.2222222222222222,\"#7201a8\"],[0.3333333333333333,\"#9c179e\"],[0.4444444444444444,\"#bd3786\"],[0.5555555555555556,\"#d8576b\"],[0.6666666666666666,\"#ed7953\"],[0.7777777777777778,\"#fb9f3a\"],[0.8888888888888888,\"#fdca26\"],[1.0,\"#f0f921\"]],\"type\":\"surface\"}],\"table\":[{\"cells\":{\"fill\":{\"color\":\"#EBF0F8\"},\"line\":{\"color\":\"white\"}},\"header\":{\"fill\":{\"color\":\"#C8D4E3\"},\"line\":{\"color\":\"white\"}},\"type\":\"table\"}]},\"layout\":{\"annotationdefaults\":{\"arrowcolor\":\"#2a3f5f\",\"arrowhead\":0,\"arrowwidth\":1},\"autotypenumbers\":\"strict\",\"coloraxis\":{\"colorbar\":{\"outlinewidth\":0,\"ticks\":\"\"}},\"colorscale\":{\"diverging\":[[0,\"#8e0152\"],[0.1,\"#c51b7d\"],[0.2,\"#de77ae\"],[0.3,\"#f1b6da\"],[0.4,\"#fde0ef\"],[0.5,\"#f7f7f7\"],[0.6,\"#e6f5d0\"],[0.7,\"#b8e186\"],[0.8,\"#7fbc41\"],[0.9,\"#4d9221\"],[1,\"#276419\"]],\"sequential\":[[0.0,\"#0d0887\"],[0.1111111111111111,\"#46039f\"],[0.2222222222222222,\"#7201a8\"],[0.3333333333333333,\"#9c179e\"],[0.4444444444444444,\"#bd3786\"],[0.5555555555555556,\"#d8576b\"],[0.6666666666666666,\"#ed7953\"],[0.7777777777777778,\"#fb9f3a\"],[0.8888888888888888,\"#fdca26\"],[1.0,\"#f0f921\"]],\"sequentialminus\":[[0.0,\"#0d0887\"],[0.1111111111111111,\"#46039f\"],[0.2222222222222222,\"#7201a8\"],[0.3333333333333333,\"#9c179e\"],[0.4444444444444444,\"#bd3786\"],[0.5555555555555556,\"#d8576b\"],[0.6666666666666666,\"#ed7953\"],[0.7777777777777778,\"#fb9f3a\"],[0.8888888888888888,\"#fdca26\"],[1.0,\"#f0f921\"]]},\"colorway\":[\"#636efa\",\"#EF553B\",\"#00cc96\",\"#ab63fa\",\"#FFA15A\",\"#19d3f3\",\"#FF6692\",\"#B6E880\",\"#FF97FF\",\"#FECB52\"],\"font\":{\"color\":\"#2a3f5f\"},\"geo\":{\"bgcolor\":\"white\",\"lakecolor\":\"white\",\"landcolor\":\"#E5ECF6\",\"showlakes\":true,\"showland\":true,\"subunitcolor\":\"white\"},\"hoverlabel\":{\"align\":\"left\"},\"hovermode\":\"closest\",\"mapbox\":{\"style\":\"light\"},\"paper_bgcolor\":\"white\",\"plot_bgcolor\":\"#E5ECF6\",\"polar\":{\"angularaxis\":{\"gridcolor\":\"white\",\"linecolor\":\"white\",\"ticks\":\"\"},\"bgcolor\":\"#E5ECF6\",\"radialaxis\":{\"gridcolor\":\"white\",\"linecolor\":\"white\",\"ticks\":\"\"}},\"scene\":{\"xaxis\":{\"backgroundcolor\":\"#E5ECF6\",\"gridcolor\":\"white\",\"gridwidth\":2,\"linecolor\":\"white\",\"showbackground\":true,\"ticks\":\"\",\"zerolinecolor\":\"white\"},\"yaxis\":{\"backgroundcolor\":\"#E5ECF6\",\"gridcolor\":\"white\",\"gridwidth\":2,\"linecolor\":\"white\",\"showbackground\":true,\"ticks\":\"\",\"zerolinecolor\":\"white\"},\"zaxis\":{\"backgroundcolor\":\"#E5ECF6\",\"gridcolor\":\"white\",\"gridwidth\":2,\"linecolor\":\"white\",\"showbackground\":true,\"ticks\":\"\",\"zerolinecolor\":\"white\"}},\"shapedefaults\":{\"line\":{\"color\":\"#2a3f5f\"}},\"ternary\":{\"aaxis\":{\"gridcolor\":\"white\",\"linecolor\":\"white\",\"ticks\":\"\"},\"baxis\":{\"gridcolor\":\"white\",\"linecolor\":\"white\",\"ticks\":\"\"},\"bgcolor\":\"#E5ECF6\",\"caxis\":{\"gridcolor\":\"white\",\"linecolor\":\"white\",\"ticks\":\"\"}},\"title\":{\"x\":0.05},\"xaxis\":{\"automargin\":true,\"gridcolor\":\"white\",\"linecolor\":\"white\",\"ticks\":\"\",\"title\":{\"standoff\":15},\"zerolinecolor\":\"white\",\"zerolinewidth\":2},\"yaxis\":{\"automargin\":true,\"gridcolor\":\"white\",\"linecolor\":\"white\",\"ticks\":\"\",\"title\":{\"standoff\":15},\"zerolinecolor\":\"white\",\"zerolinewidth\":2}}},\"width\":950,\"height\":400},                        {\"responsive\": true}                    ).then(function(){\n",
       "                            \n",
       "var gd = document.getElementById('a83c159d-4381-44e5-8216-349c79560284');\n",
       "var x = new MutationObserver(function (mutations, observer) {{\n",
       "        var display = window.getComputedStyle(gd).display;\n",
       "        if (!display || display === 'none') {{\n",
       "            console.log([gd, 'removed!']);\n",
       "            Plotly.purge(gd);\n",
       "            observer.disconnect();\n",
       "        }}\n",
       "}});\n",
       "\n",
       "// Listen for the removal of the full notebook cells\n",
       "var notebookContainer = gd.closest('#notebook-container');\n",
       "if (notebookContainer) {{\n",
       "    x.observe(notebookContainer, {childList: true});\n",
       "}}\n",
       "\n",
       "// Listen for the clearing of the current output cell\n",
       "var outputEl = gd.closest('.output');\n",
       "if (outputEl) {{\n",
       "    x.observe(outputEl, {childList: true});\n",
       "}}\n",
       "\n",
       "                        })                };                });            </script>        </div>"
      ]
     },
     "metadata": {},
     "output_type": "display_data"
    }
   ],
   "source": [
    "plot_lines(df)"
   ]
  },
  {
   "cell_type": "code",
   "execution_count": 302,
   "id": "e394aaf2",
   "metadata": {},
   "outputs": [],
   "source": [
    "def plot_columns(df):\n",
    "    #sns.set_style('whitegrid')\n",
    "    fig, ax = plt.subplots(figsize=(8, 6))\n",
    "    colors = plt.cm.tab10(np.linspace(0, 1, len(df.columns)))\n",
    "    \n",
    "    for i, column in enumerate(df.columns):\n",
    "        ax.plot(df.index, df[column], label=column, color=colors[i], linewidth=1, marker='o', markersize=8)\n",
    "\n",
    "    ax.set_xlabel('Index')\n",
    "    ax.set_ylabel('Value')\n",
    "    ax.set_title('Plot of DataFrame Columns')\n",
    "\n",
    "    ax.legend()\n",
    "    plt.show()"
   ]
  },
  {
   "cell_type": "code",
   "execution_count": 303,
   "id": "4739d906",
   "metadata": {},
   "outputs": [
    {
     "data": {
      "image/png": "[encoded data removed]",
      "text/plain": [
       "<Figure size 576x432 with 1 Axes>"
      ]
     },
     "metadata": {},
     "output_type": "display_data"
    }
   ],
   "source": [
    "plot_columns(df)"
   ]
  },
  {
   "cell_type": "code",
   "execution_count": 144,
   "id": "81527260",
   "metadata": {},
   "outputs": [
    {
     "name": "stdout",
     "output_type": "stream",
     "text": [
      "\n",
      "Problem: \n",
      "- Name: tmpbxj_01yd\n",
      "  Lower bound: 2527.0\n",
      "  Upper bound: 2527.0\n",
      "  Number of objectives: 1\n",
      "  Number of constraints: 202\n",
      "  Number of variables: 302\n",
      "  Number of nonzeros: 502\n",
      "  Sense: minimize\n",
      "Solver: \n",
      "- Status: ok\n",
      "  User time: 0.06\n",
      "  Termination condition: optimal\n",
      "  Termination message: MIP - Integer optimal solution\\x3a Objective = 2.5270000000e+03\n",
      "  Statistics: \n",
      "    Branch and bound: \n",
      "      Number of bounded subproblems: 0\n",
      "      Number of created subproblems: 0\n",
      "  Error rc: 0\n",
      "  Time: 0.16553759574890137\n",
      "Solution: \n",
      "- number of solutions: 0\n",
      "  number of solutions displayed: 0\n",
      "\n"
     ]
    }
   ],
   "source": [
    "def main():\n",
    "    uls_1 = create_uls_1_abstract_model()\n",
    "    uls_1_instance = create_instance(uls_1, data)\n",
    "    result = solve_instance_locally(uls_1_instance, \"cplex\")\n",
    "    # email = \"brahim.mebrek.pro@gmail.com\"\n",
    "    # result = solve_instance_externally(uls_1_instance, email = email, solver_name = 'cplex')\n",
    "    print(result)\n",
    "\n",
    "if __name__ == \"__main__\":\n",
    "    main()"
   ]
  },
  {
   "cell_type": "code",
   "execution_count": 229,
   "id": "00070bd7",
   "metadata": {},
   "outputs": [],
   "source": [
    "for t, v in data['f'].items():\n",
    "    data['f'][t] += 30"
   ]
  },
  {
   "cell_type": "code",
   "execution_count": 231,
   "id": "67e5df11",
   "metadata": {},
   "outputs": [],
   "source": [
    "uls_1_2 = create_uls_1_abstract_model()\n",
    "uls_1_2_instance = create_instance(uls_1_2, data)\n",
    "result = solve_instance_locally(uls_1_2_instance, \"cplex\")"
   ]
  },
  {
   "cell_type": "code",
   "execution_count": 233,
   "id": "12eb20a4",
   "metadata": {},
   "outputs": [],
   "source": [
    "df['x_2'] = [int(uls_1_2_instance.x[t].value) for t in range(1, n+1)]\n",
    "df['s_2'] = [int(uls_1_2_instance.s[t].value) for t in range(1, n+1)]\n",
    "df['y_2'] = [int(uls_1_2_instance.y[t].value) for t in range(1, n+1)]"
   ]
  },
  {
   "cell_type": "code",
   "execution_count": 234,
   "id": "1e0e0bcb",
   "metadata": {},
   "outputs": [
    {
     "data": {
      "text/html": [
       "<div>\n",
       "<style scoped>\n",
       "    .dataframe tbody tr th:only-of-type {\n",
       "        vertical-align: middle;\n",
       "    }\n",
       "\n",
       "    .dataframe tbody tr th {\n",
       "        vertical-align: top;\n",
       "    }\n",
       "\n",
       "    .dataframe thead th {\n",
       "        text-align: right;\n",
       "    }\n",
       "</style>\n",
       "<table border=\"1\" class=\"dataframe\">\n",
       "  <thead>\n",
       "    <tr style=\"text-align: right;\">\n",
       "      <th></th>\n",
       "      <th>d</th>\n",
       "      <th>f</th>\n",
       "      <th>p</th>\n",
       "      <th>h</th>\n",
       "      <th>x</th>\n",
       "      <th>s</th>\n",
       "      <th>y</th>\n",
       "      <th>x_2</th>\n",
       "      <th>s_2</th>\n",
       "      <th>y_2</th>\n",
       "    </tr>\n",
       "  </thead>\n",
       "  <tbody>\n",
       "    <tr>\n",
       "      <th>1</th>\n",
       "      <td>7</td>\n",
       "      <td>10</td>\n",
       "      <td>3</td>\n",
       "      <td>1</td>\n",
       "      <td>12</td>\n",
       "      <td>5</td>\n",
       "      <td>1</td>\n",
       "      <td>18</td>\n",
       "      <td>11</td>\n",
       "      <td>1</td>\n",
       "    </tr>\n",
       "    <tr>\n",
       "      <th>2</th>\n",
       "      <td>2</td>\n",
       "      <td>11</td>\n",
       "      <td>2</td>\n",
       "      <td>2</td>\n",
       "      <td>0</td>\n",
       "      <td>3</td>\n",
       "      <td>0</td>\n",
       "      <td>0</td>\n",
       "      <td>9</td>\n",
       "      <td>0</td>\n",
       "    </tr>\n",
       "    <tr>\n",
       "      <th>3</th>\n",
       "      <td>3</td>\n",
       "      <td>13</td>\n",
       "      <td>7</td>\n",
       "      <td>2</td>\n",
       "      <td>0</td>\n",
       "      <td>0</td>\n",
       "      <td>0</td>\n",
       "      <td>0</td>\n",
       "      <td>6</td>\n",
       "      <td>0</td>\n",
       "    </tr>\n",
       "    <tr>\n",
       "      <th>4</th>\n",
       "      <td>4</td>\n",
       "      <td>15</td>\n",
       "      <td>2</td>\n",
       "      <td>1</td>\n",
       "      <td>6</td>\n",
       "      <td>2</td>\n",
       "      <td>1</td>\n",
       "      <td>0</td>\n",
       "      <td>2</td>\n",
       "      <td>0</td>\n",
       "    </tr>\n",
       "    <tr>\n",
       "      <th>5</th>\n",
       "      <td>2</td>\n",
       "      <td>9</td>\n",
       "      <td>3</td>\n",
       "      <td>2</td>\n",
       "      <td>0</td>\n",
       "      <td>0</td>\n",
       "      <td>0</td>\n",
       "      <td>0</td>\n",
       "      <td>0</td>\n",
       "      <td>0</td>\n",
       "    </tr>\n",
       "  </tbody>\n",
       "</table>\n",
       "</div>"
      ],
      "text/plain": [
       "   d   f  p  h   x  s  y  x_2  s_2  y_2\n",
       "1  7  10  3  1  12  5  1   18   11    1\n",
       "2  2  11  2  2   0  3  0    0    9    0\n",
       "3  3  13  7  2   0  0  0    0    6    0\n",
       "4  4  15  2  1   6  2  1    0    2    0\n",
       "5  2   9  3  2   0  0  0    0    0    0"
      ]
     },
     "execution_count": 234,
     "metadata": {},
     "output_type": "execute_result"
    }
   ],
   "source": [
    "df"
   ]
  },
  {
   "cell_type": "code",
   "execution_count": null,
   "id": "623d27db",
   "metadata": {},
   "outputs": [],
   "source": [
    "def plot_lines(df, mode = 'lines+markers'):\n",
    "    fig = go.Figure()\n",
    "    for col in df.columns:\n",
    "        fig.add_trace(go.Scatter(x=df.index, y=df[col].values, name=col,  mode=mode))\n",
    "\n",
    "    fig.update_layout(width = 950, height = 400)\n",
    "    fig.show();"
   ]
  }
 ],
 "metadata": {
  "kernelspec": {
   "display_name": "Python 3 (ipykernel)",
   "language": "python",
   "name": "python3"
  },
  "language_info": {
   "codemirror_mode": {
    "name": "ipython",
    "version": 3
   },
   "file_extension": ".py",
   "mimetype": "text/x-python",
   "name": "python",
   "nbconvert_exporter": "python",
   "pygments_lexer": "ipython3",
   "version": "3.9.12"
  }
 },
 "nbformat": 4,
 "nbformat_minor": 5
}
